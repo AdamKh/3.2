{
 "cells": [
  {
   "attachments": {},
   "cell_type": "markdown",
   "metadata": {},
   "source": [
    " # Индивидуальное $№1$."
   ]
  },
  {
   "attachments": {},
   "cell_type": "markdown",
   "metadata": {},
   "source": [
    "### Вариант $№15$."
   ]
  },
  {
   "attachments": {},
   "cell_type": "markdown",
   "metadata": {},
   "source": [
    "## Упорядочить строки целочисленной прямоугольной матрицы по возрастанию количества одинаковых элементов в каждой строке. Найти номер первого из столбцов, не содержащих ни одного отрица-тельного элемента."
   ]
  },
  {
   "cell_type": "code",
   "execution_count": 15,
   "metadata": {},
   "outputs": [],
   "source": [
    "import numpy as np"
   ]
  },
  {
   "cell_type": "code",
   "execution_count": 16,
   "metadata": {},
   "outputs": [],
   "source": [
    "# Задание параметров матрицы\n",
    "rows = 5\n",
    "cols = 6\n",
    "min_val = -10\n",
    "max_val = 10"
   ]
  },
  {
   "cell_type": "code",
   "execution_count": 17,
   "metadata": {},
   "outputs": [],
   "source": [
    "# Создание случайной прямоугольной матрицы\n",
    "def create_random_matrix(rows, cols, min_val, max_val):\n",
    "    return np.random.randint(min_val, max_val, size=(rows, cols))"
   ]
  },
  {
   "cell_type": "code",
   "execution_count": 18,
   "metadata": {},
   "outputs": [],
   "source": [
    "# Упорядочивание строк матрицы по возрастанию количества одинаковых элементов\n",
    "def sort_rows_by_count(matrix):\n",
    "    row_counts = np.sum(matrix[:, None, :] == matrix, axis=2)\n",
    "    sorted_indices = np.lexsort(row_counts.T)\n",
    "    return matrix[sorted_indices]"
   ]
  },
  {
   "cell_type": "code",
   "execution_count": 19,
   "metadata": {},
   "outputs": [],
   "source": [
    "# Поиск номера первого столбца без отрицательных элементов\n",
    "def find_first_nonnegative_column(matrix):\n",
    "    mask = np.any(matrix < 0, axis=0)\n",
    "    if np.all(mask):\n",
    "        return -1\n",
    "    else:\n",
    "        return np.argmax(~mask)"
   ]
  },
  {
   "cell_type": "code",
   "execution_count": 20,
   "metadata": {},
   "outputs": [],
   "source": [
    "# Создание случайной матрицы\n",
    "matrix = create_random_matrix(rows, cols, min_val, max_val)"
   ]
  },
  {
   "cell_type": "code",
   "execution_count": 21,
   "metadata": {},
   "outputs": [
    {
     "name": "stdout",
     "output_type": "stream",
     "text": [
      "Исходная матрица:\n",
      "[[ -9   8  -6   5   9   6]\n",
      " [  6   2   4  -9  -1  -4]\n",
      " [ -2   0  -5   3   5 -10]\n",
      " [  8   6  -8   1 -10  -9]\n",
      " [ -6   9  -3  -3  -6 -10]]\n"
     ]
    }
   ],
   "source": [
    "# Вывод исходной матрицы\n",
    "print(\"Исходная матрица:\")\n",
    "print(matrix)"
   ]
  },
  {
   "cell_type": "code",
   "execution_count": 22,
   "metadata": {},
   "outputs": [
    {
     "name": "stdout",
     "output_type": "stream",
     "text": [
      "Матрица, упорядоченная по количеству одинаковых элементов в строке:\n",
      "[[ -9   8  -6   5   9   6]\n",
      " [  6   2   4  -9  -1  -4]\n",
      " [  8   6  -8   1 -10  -9]\n",
      " [ -2   0  -5   3   5 -10]\n",
      " [ -6   9  -3  -3  -6 -10]]\n"
     ]
    }
   ],
   "source": [
    "# Упорядочивание строк матрицы\n",
    "sorted_matrix = sort_rows_by_count(matrix)\n",
    "print(\"Матрица, упорядоченная по количеству одинаковых элементов в строке:\")\n",
    "print(sorted_matrix)\n"
   ]
  },
  {
   "cell_type": "code",
   "execution_count": 23,
   "metadata": {},
   "outputs": [
    {
     "name": "stdout",
     "output_type": "stream",
     "text": [
      "Номер первого столбца без отрицательных элементов: 1\n"
     ]
    }
   ],
   "source": [
    "# Поиск номера первого столбца без отрицательных элементов\n",
    "first_nonnegative_column = find_first_nonnegative_column(matrix)\n",
    "print(\"Номер первого столбца без отрицательных элементов:\", first_nonnegative_column)"
   ]
  }
 ],
 "metadata": {
  "kernelspec": {
   "display_name": "Python 3 (ipykernel)",
   "language": "python",
   "name": "python3"
  },
  "language_info": {
   "codemirror_mode": {
    "name": "ipython",
    "version": 3
   },
   "file_extension": ".py",
   "mimetype": "text/x-python",
   "name": "python",
   "nbconvert_exporter": "python",
   "pygments_lexer": "ipython3",
   "version": "3.9.12"
  },
  "orig_nbformat": 4
 },
 "nbformat": 4,
 "nbformat_minor": 2
}
